{
 "cells": [
  {
   "cell_type": "markdown",
   "metadata": {},
   "source": [
    "# Movie Recommendation Engine "
   ]
  },
  {
   "cell_type": "markdown",
   "metadata": {},
   "source": [
    "## Akhil Kumar Ramasagaram | Sai Prashanth Puligilla "
   ]
  },
  {
   "cell_type": "code",
   "execution_count": 1,
   "metadata": {
    "collapsed": false
   },
   "outputs": [
    {
     "data": {
      "text/html": [
       "<div>\n",
       "<table border=\"1\" class=\"dataframe\">\n",
       "  <thead>\n",
       "    <tr style=\"text-align: right;\">\n",
       "      <th></th>\n",
       "      <th>User.ID</th>\n",
       "      <th>Movie.ID</th>\n",
       "      <th>Ratings</th>\n",
       "      <th>Time</th>\n",
       "    </tr>\n",
       "  </thead>\n",
       "  <tbody>\n",
       "    <tr>\n",
       "      <th>0</th>\n",
       "      <td>196</td>\n",
       "      <td>242</td>\n",
       "      <td>3</td>\n",
       "      <td>881250949</td>\n",
       "    </tr>\n",
       "    <tr>\n",
       "      <th>1</th>\n",
       "      <td>186</td>\n",
       "      <td>302</td>\n",
       "      <td>3</td>\n",
       "      <td>891717742</td>\n",
       "    </tr>\n",
       "    <tr>\n",
       "      <th>2</th>\n",
       "      <td>22</td>\n",
       "      <td>377</td>\n",
       "      <td>1</td>\n",
       "      <td>878887116</td>\n",
       "    </tr>\n",
       "    <tr>\n",
       "      <th>3</th>\n",
       "      <td>244</td>\n",
       "      <td>51</td>\n",
       "      <td>2</td>\n",
       "      <td>880606923</td>\n",
       "    </tr>\n",
       "    <tr>\n",
       "      <th>4</th>\n",
       "      <td>166</td>\n",
       "      <td>346</td>\n",
       "      <td>1</td>\n",
       "      <td>886397596</td>\n",
       "    </tr>\n",
       "    <tr>\n",
       "      <th>5</th>\n",
       "      <td>298</td>\n",
       "      <td>474</td>\n",
       "      <td>4</td>\n",
       "      <td>884182806</td>\n",
       "    </tr>\n",
       "  </tbody>\n",
       "</table>\n",
       "</div>"
      ],
      "text/plain": [
       "   User.ID  Movie.ID  Ratings       Time\n",
       "0      196       242        3  881250949\n",
       "1      186       302        3  891717742\n",
       "2       22       377        1  878887116\n",
       "3      244        51        2  880606923\n",
       "4      166       346        1  886397596\n",
       "5      298       474        4  884182806"
      ]
     },
     "execution_count": 1,
     "metadata": {},
     "output_type": "execute_result"
    }
   ],
   "source": [
    "import pandas as pd\n",
    "import numpy as np\n",
    "u_data = pd.read_table(\"ml-100k/u.data\", delimiter= \"\\t\", names=[\"User.ID\",\"Movie.ID\",\"Ratings\",\"Time\"])\n",
    "u_data.head(6)"
   ]
  },
  {
   "cell_type": "code",
   "execution_count": 2,
   "metadata": {
    "collapsed": false
   },
   "outputs": [],
   "source": [
    "spm = pd.read_csv(\"ml-100k/spm.csv\")"
   ]
  },
  {
   "cell_type": "code",
   "execution_count": 3,
   "metadata": {
    "collapsed": false
   },
   "outputs": [],
   "source": [
    "u_item = pd.read_table(\"ml-100k/u.item\", delimiter=\"|\", \n",
    "                       names=[\"ID\", \"Title\", \"ReleaseDate\", \"VideoReleaseDate\", \"IMDB\", \"Unknown\", \n",
    "                              \"Action\", \"Adventure\", \"Animation\", \"Childrens\", \"Comedy\", \"Crime\", \n",
    "                              \"Documentary\", \"Drama\", \"Fantasy\", \"FilmNoir\", \"Horror\", \"Musical\", \n",
    "                              \"Mystery\", \"Romance\", \"SciFi\", \"Thriller\", \"War\", \"Western\"])\n",
    "spm.columns = u_item['Title']"
   ]
  },
  {
   "cell_type": "markdown",
   "metadata": {},
   "source": [
    "## User based Collaborative Filtering"
   ]
  },
  {
   "cell_type": "code",
   "execution_count": 4,
   "metadata": {
    "collapsed": false
   },
   "outputs": [
    {
     "data": {
      "text/plain": [
       "1.0310972090819936"
      ]
     },
     "execution_count": 4,
     "metadata": {},
     "output_type": "execute_result"
    }
   ],
   "source": [
    "from sklearn.metrics.pairwise import cosine_similarity\n",
    "def recommend_user(x, verbose = False):\n",
    "    target_user = np.array(spm.iloc[x,:])\n",
    "    user_similarity = np.repeat(1.0,spm.shape[0])\n",
    "    for i in range(spm.shape[0]):\n",
    "        user_similarity[i] = cosine_similarity(spm.iloc[i,:], target_user)\n",
    "    unrated_movies = np.where(target_user == 0)[0]\n",
    "    rated_movies = target_user.nonzero()[0]\n",
    "    ur_movies = spm.iloc[:,unrated_movies]\n",
    "    weighted_matrix = pd.DataFrame(columns= ur_movies.columns, \n",
    "                                   index = np.arange(ur_movies.shape[0]))\n",
    "    for i in range(len(user_similarity)):\n",
    "        weighted_matrix.iloc[i,:] = user_similarity[i] * ur_movies.iloc[i,:]\n",
    "    total_movie_rating = weighted_matrix.sum(axis=0)\n",
    "    users_rated = pd.DataFrame(index=np.arange(len(weighted_matrix)), columns=['temp'])\n",
    "    for i in range(weighted_matrix.shape[1]):\n",
    "        temp_ind = np.where(weighted_matrix.iloc[:,i] > 0)[0]\n",
    "        users_rated['temp'][i] = sum(user_similarity[temp_ind])\n",
    "    users_rated = np.array(users_rated['temp'])\n",
    "    for i in (np.where(users_rated == 0)):\n",
    "        users_rated[i] = float('NaN')\n",
    "    predict_ratings = total_movie_rating/users_rated\n",
    "    predict_ratings.columns = spm.iloc[:,unrated_movies].columns\n",
    "    ordered_ind = list(reversed(np.argsort(predict_ratings)[slice(-5, None)]))\n",
    "    top_5_ind = ordered_ind[:5]\n",
    "    user_rated_movies = target_user[rated_movies]\n",
    "    movies_predicted = predict_ratings[rated_movies]\n",
    "    accuracy = sum(abs(user_rated_movies - movies_predicted)/len(rated_movies))\n",
    "    if(verbose == True):\n",
    "        print(\"The Mean Accuracy Error is: %.5f\" %accuracy)\n",
    "        print(\"Top 5 Recommended Movies are\")\n",
    "        final = predict_ratings[top_5_ind]\n",
    "        final = pd.Series.to_frame(final)\n",
    "        for i in range(5):\n",
    "            print(final.index.values[i])\n",
    "    else:\n",
    "        return(accuracy)\n",
    "recommend_user(1,False)"
   ]
  },
  {
   "cell_type": "markdown",
   "metadata": {
    "collapsed": false
   },
   "source": [
    "## Iterm Based Collaborative Filtering "
   ]
  },
  {
   "cell_type": "code",
   "execution_count": 5,
   "metadata": {
    "collapsed": false
   },
   "outputs": [],
   "source": [
    "from sklearn.metrics.pairwise import cosine_similarity\n",
    "movies_sim = pd.DataFrame(cosine_similarity(spm.T))\n",
    "movies_sim.columns = u_item['Title']\n"
   ]
  },
  {
   "cell_type": "code",
   "execution_count": 6,
   "metadata": {
    "collapsed": false
   },
   "outputs": [],
   "source": [
    "samp = movies_sim\n",
    "for i in range(samp.shape[1]):\n",
    "    samp.iloc[:,i] = np.array(list(reversed(np.argsort(movies_sim.iloc[:,i]))))\n"
   ]
  },
  {
   "cell_type": "code",
   "execution_count": 7,
   "metadata": {
    "collapsed": false
   },
   "outputs": [
    {
     "data": {
      "text/plain": [
       "2.1818181818181817"
      ]
     },
     "execution_count": 7,
     "metadata": {},
     "output_type": "execute_result"
    }
   ],
   "source": [
    "def recommend_user_ib(x, verbose = False):\n",
    "    target_user = np.array(spm.iloc[x,:])\n",
    "    rated_movies = target_user.nonzero()[0]\n",
    "    unrated_movies = np.where(target_user == 0)[0]\n",
    "    predictions = pd.DataFrame(index = np.arange(1), columns=spm.columns)\n",
    "    for i in range(spm.shape[1]):\n",
    "        top_20_similar_movies = samp.iloc[1:20,i]\n",
    "        ratings = max(spm.iloc[x,top_20_similar_movies])\n",
    "        predictions.iloc[0,i] = ratings\n",
    "    p_order = predictions.iloc[:,unrated_movies]\n",
    "    p_order = p_order.transpose()\n",
    "    p_order.columns = ['Ratings']\n",
    "    rated_movies_ac = spm.iloc[47,rated_movies]\n",
    "    pred_movies_ac = p_order['Ratings'].convert_objects(convert_numeric=True)\n",
    "    p_order = p_order.sort(columns='Ratings', ascending=False)\n",
    "    final_movies = p_order.iloc[0:5,:].index.tolist()\n",
    "    accuracy = sum(abs(np.array(rated_movies_ac) - np.array(pred_movies_ac[rated_movies])))/float(len(rated_movies))\n",
    "    if(verbose == True):\n",
    "        for i in range(5):\n",
    "            print(final_movies[i])\n",
    "        print(\"The Mean Accuracy Error is: %.5f\" %accuracy)\n",
    "    else:\n",
    "        return(accuracy)\n",
    "\n",
    "recommend_user_ib(8,False)"
   ]
  },
  {
   "cell_type": "markdown",
   "metadata": {},
   "source": [
    "### Evaluating IB & UB Collaborative Filterring  "
   ]
  },
  {
   "cell_type": "code",
   "execution_count": 8,
   "metadata": {
    "collapsed": false,
    "scrolled": true
   },
   "outputs": [
    {
     "name": "stdout",
     "output_type": "stream",
     "text": [
      "4\n",
      "8\n",
      "48\n",
      "2.61692942716\n",
      "1.2088106161\n"
     ]
    }
   ],
   "source": [
    "sample_user_ids = np.array([4,8,48])\n",
    "IB_mse = []\n",
    "UB_mse = []\n",
    "for i in sample_user_ids:\n",
    "    print(i)\n",
    "    IB_mse.append(recommend_user_ib(i,False))\n",
    "    UB_mse.append(recommend_user(i,False))\n",
    "print(np.mean(IB_mse))\n",
    "print(np.mean(UB_mse))"
   ]
  },
  {
   "cell_type": "markdown",
   "metadata": {
    "collapsed": false
   },
   "source": [
    "### Clsutering"
   ]
  },
  {
   "cell_type": "code",
   "execution_count": 9,
   "metadata": {
    "collapsed": false
   },
   "outputs": [
    {
     "name": "stderr",
     "output_type": "stream",
     "text": [
      "/Users/akhil/.graphlab/anaconda/lib/python2.7/site-packages/pandas/util/decorators.py:81: FutureWarning: the 'cols' keyword is deprecated, use 'subset' instead\n",
      "  warnings.warn(msg, FutureWarning)\n"
     ]
    }
   ],
   "source": [
    "from scipy.cluster.hierarchy import dendrogram, linkage\n",
    "from scipy.cluster.hierarchy import fcluster\n",
    "u_item.drop(u_item.columns[[0,2,3,4]], axis=1, inplace=True)\n",
    "u_item.drop_duplicates(cols = 'Title', inplace = True)\n",
    "distances = pd.DataFrame(cosine_similarity(u_item.iloc[:,1:]))\n",
    "Z = linkage(distances, 'complete')\n",
    "clusters = fcluster(Z, 10, criterion='maxclust')"
   ]
  },
  {
   "cell_type": "code",
   "execution_count": 10,
   "metadata": {
    "collapsed": true
   },
   "outputs": [],
   "source": [
    "def recommend_user_clust(x):\n",
    "    user = spm.iloc[x,:]\n",
    "    temp = np.array(user)\n",
    "    highest_rated_movie = np.where(temp==max(user))\n",
    "    cg = clusters[highest_rated_movie]\n",
    "    uniq_clusters = np.unique(cg)\n",
    "    clust_group = pd.value_counts(pd.Series(cg))[0:2]\n",
    "    best_clust = clust_group.index\n",
    "    temp_ind = []\n",
    "    for i in best_clust:\n",
    "        t_ind = list(np.where(clusters == i)[0])\n",
    "        temp_ind += t_ind\n",
    "    cluster_subset = u_item.iloc[temp_ind,:]\n",
    "    print(\"Based on User ratings, we found %d movies\" %cluster_subset.shape[0])\n",
    "    genre_summary = pd.DataFrame(cluster_subset.sum(numeric_only=True),columns=['Freq'])\n",
    "    print('Most suited genre: %s' %genre_summary.sort(columns=\"Freq\", ascending=False).index[0])\n",
    "    rand_rec = np.random.randint(cluster_subset.shape[0], size = 5)\n",
    "    for i in rand_rec:\n",
    "        print(cluster_subset.iloc[i,0])"
   ]
  },
  {
   "cell_type": "code",
   "execution_count": 11,
   "metadata": {
    "collapsed": false
   },
   "outputs": [
    {
     "data": {
      "image/png": "[encoded data removed]",
      "text/plain": [
       "<matplotlib.figure.Figure at 0x1131a6cd0>"
      ]
     },
     "metadata": {},
     "output_type": "display_data"
    }
   ],
   "source": [
    "from matplotlib import pyplot as plt\n",
    "%matplotlib inline\n",
    "plt.figure(figsize=(25, 10))\n",
    "plt.title('Hierarchical Clustering Dendrogram')\n",
    "plt.xlabel('sample index')\n",
    "plt.ylabel('distance')\n",
    "dendrogram(\n",
    "    Z,\n",
    "    leaf_rotation=90.,  # rotates the x axis labels\n",
    "    leaf_font_size=8.,  # font size for the x axis labels\n",
    ")\n",
    "plt.show()"
   ]
  },
  {
   "cell_type": "code",
   "execution_count": 12,
   "metadata": {
    "collapsed": false
   },
   "outputs": [
    {
     "data": {
      "text/plain": [
       "Title\n",
       "Toy Story (1995)                                           4\n",
       "GoldenEye (1995)                                           3\n",
       "From Dusk Till Dawn (1996)                                 4\n",
       "Muppet Treasure Island (1996)                              3\n",
       "Rumble in the Bronx (1995)                                 4\n",
       "Birdcage, The (1996)                                       3\n",
       "Batman Forever (1995)                                      4\n",
       "To Wong Foo, Thanks for Everything! Julie Newmar (1995)    4\n",
       "Clerks (1994)                                              5\n",
       "Star Wars (1977)                                           4\n",
       "Stargate (1994)                                            4\n",
       "Santa Clause, The (1994)                                   1\n",
       "While You Were Sleeping (1995)                             1\n",
       "Forrest Gump (1994)                                        1\n",
       "Four Weddings and a Funeral (1994)                         4\n",
       "Fugitive, The (1993)                                       3\n",
       "Hot Shots! Part Deux (1993)                                2\n",
       "Blade Runner (1982)                                        5\n",
       "So I Married an Axe Murderer (1993)                        3\n",
       "Home Alone (1990)                                          3\n",
       "Aladdin (1992)                                             4\n",
       "Silence of the Lambs, The (1991)                           3\n",
       "Snow White and the Seven Dwarfs (1937)                     3\n",
       "Fargo (1996)                                               5\n",
       "Heavy Metal (1981)                                         5\n",
       "Aristocats, The (1970)                                     3\n",
       "Sgt. Bilko (1996)                                          3\n",
       "Mystery Science Theater 3000: The Movie (1996)             5\n",
       "Operation Dumbo Drop (1995)                                1\n",
       "Independence Day (ID4) (1996)                              4\n",
       "                                                          ..\n",
       "Harold and Maude (1971)                                    5\n",
       "Day the Earth Stood Still, The (1951)                      3\n",
       "Duck Soup (1933)                                           5\n",
       "Highlander (1986)                                          3\n",
       "Fantasia (1940)                                            4\n",
       "Heathers (1989)                                            5\n",
       "Forbidden Planet (1956)                                    5\n",
       "Butch Cassidy and the Sundance Kid (1969)                  4\n",
       "American Werewolf in London, An (1981)                     5\n",
       "Amityville 1992: It's About Time (1992)                    1\n",
       "Amityville 3-D (1983)                                      1\n",
       "Amityville: A New Generation (1993)                        1\n",
       "Amityville II: The Possession (1982)                       1\n",
       "Amityville Horror, The (1979)                              1\n",
       "Amityville Curse, The (1990)                               1\n",
       "Birds, The (1963)                                          4\n",
       "Blob, The (1958)                                           2\n",
       "Body Snatcher, The (1945)                                  3\n",
       "Burnt Offerings (1976)                                     4\n",
       "Carrie (1976)                                              3\n",
       "Omen, The (1976)                                           2\n",
       "Star Trek: The Motion Picture (1979)                       2\n",
       "Star Trek V: The Final Frontier (1989)                     1\n",
       "Grease (1978)                                              1\n",
       "Jaws 2 (1978)                                              1\n",
       "Jaws 3-D (1983)                                            1\n",
       "Bastard Out of Carolina (1996)                             1\n",
       "Jackie Chan's First Strike (1996)                          4\n",
       "Beverly Hills Ninja (1997)                                 1\n",
       "Free Willy 3: The Rescue (1997)                            1\n",
       "Name: 4, dtype: int64"
      ]
     },
     "execution_count": 12,
     "metadata": {},
     "output_type": "execute_result"
    }
   ],
   "source": [
    "spm.iloc[4,np.where(np.array(spm.iloc[4,:]) != 0)]"
   ]
  },
  {
   "cell_type": "code",
   "execution_count": 13,
   "metadata": {
    "collapsed": false
   },
   "outputs": [
    {
     "name": "stdout",
     "output_type": "stream",
     "text": [
      "The Mean Accuracy Error is: 1.16921\n",
      "Top 5 Recommended Movies are\n",
      "Last Summer in the Hamptons (1995)\n",
      "Prefontaine (1997)\n",
      "Celtic Pride (1996)\n",
      "Twin Town (1997)\n",
      "Great Day in Harlem, A (1994)\n"
     ]
    }
   ],
   "source": [
    "recommend_user(4,True)"
   ]
  },
  {
   "cell_type": "code",
   "execution_count": 14,
   "metadata": {
    "collapsed": false
   },
   "outputs": [
    {
     "name": "stdout",
     "output_type": "stream",
     "text": [
      "Full Monty, The (1997)\n",
      "Heat (1995)\n",
      "Sense and Sensibility (1995)\n",
      "Leaving Las Vegas (1995)\n",
      "Restoration (1995)\n",
      "The Mean Accuracy Error is: 2.84571\n"
     ]
    }
   ],
   "source": [
    "recommend_user_ib(4,True)"
   ]
  },
  {
   "cell_type": "code",
   "execution_count": 15,
   "metadata": {
    "collapsed": false
   },
   "outputs": [
    {
     "name": "stdout",
     "output_type": "stream",
     "text": [
      "Based on User ratings, we found 558 movies\n",
      "Most suited genre: Comedy\n",
      "Only You (1994)\n",
      "Gordy (1995)\n",
      "Amityville Horror, The (1979)\n",
      "Dunston Checks In (1996)\n",
      "Phat Beach (1996)\n"
     ]
    }
   ],
   "source": [
    "recommend_user_clust(4)"
   ]
  },
  {
   "cell_type": "markdown",
   "metadata": {},
   "source": [
    "Based on the movies the above user rated, we did a quick search on some of the movies on IMDB and we found that some of these movies are fall in Comedy, Action & Drama mostly. If you Look at the recommendations generated from the UB, IB and clustering we can see some similar recommendations. "
   ]
  },
  {
   "cell_type": "code",
   "execution_count": null,
   "metadata": {
    "collapsed": false
   },
   "outputs": [],
   "source": []
  },
  {
   "cell_type": "code",
   "execution_count": null,
   "metadata": {
    "collapsed": false
   },
   "outputs": [],
   "source": []
  },
  {
   "cell_type": "code",
   "execution_count": null,
   "metadata": {
    "collapsed": false
   },
   "outputs": [],
   "source": []
  },
  {
   "cell_type": "code",
   "execution_count": null,
   "metadata": {
    "collapsed": false
   },
   "outputs": [],
   "source": []
  },
  {
   "cell_type": "code",
   "execution_count": null,
   "metadata": {
    "collapsed": false
   },
   "outputs": [],
   "source": []
  },
  {
   "cell_type": "code",
   "execution_count": null,
   "metadata": {
    "collapsed": false
   },
   "outputs": [],
   "source": []
  },
  {
   "cell_type": "code",
   "execution_count": null,
   "metadata": {
    "collapsed": true
   },
   "outputs": [],
   "source": []
  }
 ],
 "metadata": {
  "kernelspec": {
   "display_name": "Python 2",
   "language": "python",
   "name": "python2"
  },
  "language_info": {
   "codemirror_mode": {
    "name": "ipython",
    "version": 2
   },
   "file_extension": ".py",
   "mimetype": "text/x-python",
   "name": "python",
   "nbconvert_exporter": "python",
   "pygments_lexer": "ipython2",
   "version": "2.7.11"
  }
 },
 "nbformat": 4,
 "nbformat_minor": 0
}
